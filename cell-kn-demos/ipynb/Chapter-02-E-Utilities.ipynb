{
 "cells": [
  {
   "cell_type": "markdown",
   "metadata": {},
   "source": [
    "# Chapter 02: Use of E-Utilities\n",
    "\n",
    "Ray LeClair \\<2024-07-06 Sat\\>\n",
    "\n",
    "## Objectives\n",
    "\n",
    "Since the OntoGPT `pubmed-annotate` function requires a PubMed\n",
    "Identifier (PMID) as an argument, the objective of this document\n",
    "involves using the E-Utilities to search PubMed for a given title.\n",
    "\n",
    "See:\n",
    "\n",
    "-   [Chapter-04-ontoGPT.ipynb](Chapter-04-OntoGPT.ipynb)\n",
    "-   [E-Utilities](https://www.ncbi.nlm.nih.gov/books/NBK25499/)\n",
    "\n",
    "### Background\n",
    "\n",
    "The Entrez Programming Utilities (E-utilities) provide a stable API\n",
    "into the Entrez query and database system at the National Center for\n",
    "Biotechnology Information (NCBI).\n",
    "\n",
    "The following sections describe various development environments\n",
    "\n",
    "See: [springbok-nlm-kn/README.md](https://github.com/ralatsdc/springbok-nlm-kn/blob/main/README.md)\n",
    "\n",
    "### Jupyter Notebook development environment\n",
    "\n",
    "Launch Jupyter Notebook from a terminal in which `.zshenv` has been\n",
    "sourced, and the virtual environment has been activated.\n",
    "\n",
    "### Emacs Org Mode development environment\n",
    "\n",
    "Launch Emacs from a terminal in which `.zshenv` has been sourced, then\n",
    "evaluate this code block to activate the virtual environment:\n",
    "\n",
    "``` commonlisp\n",
    "(pyvenv-activate \"../../.venv\")\n",
    "```\n",
    "\n",
    "## Identification of a title within PubMed\n",
    "\n",
    "To begin, we import modules, and assign module scope variables:"
   ],
   "id": "b5274b0d-0c56-47a7-a278-0232163870ed"
  },
  {
   "cell_type": "code",
   "execution_count": null,
   "metadata": {
    "results": "silent",
    "session": "shared",
    "tangle": "../py/E_Utilities.py"
   },
   "outputs": [],
   "source": [
    "import logging\n",
    "import os\n",
    "from time import sleep\n",
    "from traceback import print_exc\n",
    "from urllib import parse\n",
    "\n",
    "from bs4 import BeautifulSoup\n",
    "import requests\n",
    "\n",
    "DATA_DIR = \"../data\"\n",
    "\n",
    "EUTILS_URL = \"https://eutils.ncbi.nlm.nih.gov/entrez/eutils/\"\n",
    "NCBI_EMAIL = os.environ.get(\"NCBI_EMAIL\")\n",
    "NCBI_API_KEY = os.environ.get(\"NCBI_API_KEY\")\n",
    "NCBI_API_SLEEP = 1\n",
    "PUBMED = \"pubmed\"\n"
   ],
   "id": "01222711-8d3e-4521-bbdf-a859d662f0a2"
  },
  {
   "cell_type": "markdown",
   "metadata": {},
   "source": [
    "Now consider, for example, the citations provided by CELLxGENE for the\n",
    "human lung cell datasets. We looked at how to get the datasets, and\n",
    "the titles of the corresponding publications earlier.\n",
    "\n",
    "See: [Chapter-01-CELLxGENE.ipynb](Chapter-01-CELLxGENE.ipynb)"
   ],
   "id": "196c1ec8-f345-4e61-b4fc-38e1e1fd3d14"
  },
  {
   "cell_type": "code",
   "execution_count": null,
   "metadata": {
    "results": "output",
    "session": "shared"
   },
   "outputs": [],
   "source": [
    "from CELLxGENE import get_metadata_and_datasets, get_title\n",
    "try:\n",
    "    datasets, counts, var, obs = get_metadata_and_datasets()\n",
    "    citation = datasets[\"citation\"].iloc[4]\n",
    "    title = get_title(citation)\n",
    "except Exception:\n",
    "    print_exc()\n"
   ],
   "id": "a8e54d06-1809-4ef5-99e9-3bdcf91551dd"
  },
  {
   "cell_type": "markdown",
   "metadata": {},
   "source": [
    "Now we can write a function using the E-Utilities to search PubMed for\n",
    "the title:"
   ],
   "id": "94a6d91d-9e03-4528-8a7f-146f74e3f638"
  },
  {
   "cell_type": "code",
   "execution_count": null,
   "metadata": {
    "results": "silent",
    "session": "shared",
    "tangle": "../py/E_Utilities.py"
   },
   "outputs": [],
   "source": [
    "def get_pmid_for_title(title):\n",
    "    \"\"\"Search PubMed using a title to find the corresponding PMID.\n",
    "\n",
    "    Parameters\n",
    "    ----------\n",
    "    title : str\n",
    "       The title to use in the search\n",
    "\n",
    "    Returns\n",
    "    -------\n",
    "    pmid : str\n",
    "       The PubMed identifier found\n",
    "    \"\"\"\n",
    "    # Need a default return value\n",
    "    pmid = None\n",
    "\n",
    "    # Search PubMed\n",
    "    if title is None:\n",
    "        return pmid\n",
    "    print(f\"Getting PMID for title: '{title}'\")\n",
    "    search_url = EUTILS_URL + \"esearch.fcgi\"\n",
    "    print(search_url)\n",
    "    params = {\n",
    "        \"db\": PUBMED,\n",
    "        \"term\": title,\n",
    "        \"field\": \"title\",\n",
    "        \"retmode\": \"json\",\n",
    "        # \"retmax\": 0,\n",
    "        \"email\": NCBI_EMAIL,\n",
    "        \"api_key\": NCBI_API_KEY,\n",
    "    }\n",
    "    print(params)\n",
    "    sleep(NCBI_API_SLEEP)\n",
    "    response = requests.get(search_url, params=parse.urlencode(params, safe=\",\"))\n",
    "    if response.status_code == 200:\n",
    "        data = response.json()\n",
    "        resultcount = int(data[\"esearchresult\"][\"count\"])\n",
    "\n",
    "        if resultcount > 1:\n",
    "            # Response contains more than once result, so fetch each\n",
    "            # PMID until title matches\n",
    "            logging.warning(f\"PubMed returned more than one result for title: {title}\")\n",
    "            for _pmid in data[\"esearchresult\"][\"idlist\"]:\n",
    "                _title = get_title_for_pmid(_pmid)\n",
    "                if (\n",
    "                    _title == title + \".\"\n",
    "                ):  # PMID fetch includes period in title, title search does not\n",
    "                    pmid = _pmid\n",
    "                    break\n",
    "\n",
    "        else:\n",
    "            pmid = data[\"esearchresult\"][\"idlist\"][0]\n",
    "\n",
    "        print(f\"Found PMID: {pmid} for title: '{title}'\")\n",
    "\n",
    "    elif response.status_code == 429:\n",
    "        logging.error(\"Too many requests to NCBI API. Try again later, or use API key.\")\n",
    "\n",
    "    else:\n",
    "        logging.error(f\"Encountered error in searching PubMed: {response.status_code}\")\n",
    "\n",
    "    return pmid\n"
   ],
   "id": "5bfc371f-6d30-44b4-b535-22e64f3e475a"
  },
  {
   "cell_type": "markdown",
   "metadata": {},
   "source": [
    "In the process of testing this function we discover that multiple\n",
    "PubMed Identifiers (PMIDs) can be returned. So we need to write a\n",
    "function that returns the title for a given PMID to confirm which of\n",
    "the multiple PMIDs returned is correct as follows:"
   ],
   "id": "46847bea-5291-4f12-83d8-bcd024c2d5c2"
  },
  {
   "cell_type": "code",
   "execution_count": null,
   "metadata": {
    "results": "silent",
    "session": "shared",
    "tangle": "../py/E_Utilities.py"
   },
   "outputs": [],
   "source": [
    "def get_title_for_pmid(pmid):\n",
    "    \"\"\"Fetch from PubMed using a PMID to find the corresponding title.\n",
    "\n",
    "    Parameters\n",
    "    ----------\n",
    "    pmid : str\n",
    "       The PubMed identifier to use in the fetch\n",
    "\n",
    "    Returns\n",
    "    -------\n",
    "    title : str\n",
    "       The title fetched\n",
    "    \"\"\"\n",
    "    # Need a default return value\n",
    "    title = None\n",
    "\n",
    "    # Fetch from PubMed\n",
    "    fetch_url = EUTILS_URL + \"efetch.fcgi\"\n",
    "    params = {\n",
    "        \"db\": PUBMED,\n",
    "        \"id\": pmid,\n",
    "        \"rettype\": \"xml\",\n",
    "        \"email\": NCBI_EMAIL,\n",
    "        \"api_key\": NCBI_API_KEY,\n",
    "    }\n",
    "    sleep(NCBI_API_SLEEP)\n",
    "    response = requests.get(fetch_url, params=parse.urlencode(params, safe=\",\"))\n",
    "    if response.status_code == 200:\n",
    "        xml_data = response.text\n",
    "\n",
    "        # Got the page, so parse it, and search for the title\n",
    "        fullsoup = BeautifulSoup(xml_data, \"xml\")\n",
    "        found = fullsoup.find(\"ArticleTitle\")\n",
    "        if found:\n",
    "            title = found.text\n",
    "\n",
    "    else:\n",
    "        logging.error(\n",
    "            f\"Encountered error in fetching from PubMed: {response.status_code}\"\n",
    "        )\n",
    "\n",
    "    return title\n"
   ],
   "id": "21c26b20-12c2-4201-8c17-eaf04d160279"
  },
  {
   "cell_type": "markdown",
   "metadata": {},
   "source": [
    "Now we can get the PMID for the title:"
   ],
   "id": "90414fa9-aa14-4921-be0a-8c55c40dba3c"
  },
  {
   "cell_type": "code",
   "execution_count": null,
   "metadata": {
    "results": "output",
    "session": "shared"
   },
   "outputs": [],
   "source": [
    "pmid = get_pmid_for_title(title)\n",
    "print(f\"PMID: {pmid} found for title: {title}\")\n"
   ],
   "id": "7932ed7b-e89e-4f57-8b38-d8d69567092b"
  },
  {
   "cell_type": "markdown",
   "metadata": {},
   "source": [
    "Next, in Chapter 03 we write a function to run NS-Forest on a dataset.\n",
    "\n",
    "See: [Chapter-03-NS-Forest.ipynb](Chapter-03-NS-Forest.ipynb)"
   ],
   "id": "777f63ea-42c9-4933-ac24-24080ca6cf2a"
  }
 ],
 "nbformat": 4,
 "nbformat_minor": 5,
 "metadata": {}
}
