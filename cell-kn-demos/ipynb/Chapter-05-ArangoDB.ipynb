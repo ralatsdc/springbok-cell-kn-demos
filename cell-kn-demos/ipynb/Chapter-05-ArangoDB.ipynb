{
 "cells": [
  {
   "cell_type": "markdown",
   "metadata": {},
   "source": [
    "# Chapter 05: Use of ArangoDB\n",
    "\n",
    "Ray LeClair \\<2024-07-14 Sun\\>\n",
    "\n",
    "## Objectives\n",
    "\n",
    "Since the NCBI Information Resources Branch has extensive experience\n",
    "with ArangoDB, including performance comparison testing with Neo4j,\n",
    "interaction with the ArangoDB developers, and use in production, the\n",
    "objectives of this document is to demonstrate how to:\n",
    "\n",
    "-   Create or get, and delete an ArangoDB database\n",
    "\n",
    "-   Create or get, and delete a database graph\n",
    "\n",
    "-   Create or get, and delete a graph vertex collection\n",
    "\n",
    "-   Create or get, and delete a graph edge definition and collection\n",
    "\n",
    "-   Insert graph vertices and edges\n",
    "\n",
    "The ArangoDB database system, developed by ArangoDB Inc., supports\n",
    "three data models (graphs, JSON documents, and key/value pairs) within\n",
    "one database core, and provides a unified query language, AQL\n",
    "(ArangoDB Query Language).\n",
    "\n",
    "See: [ArangoDB](https://en.wikipedia.org/wiki/ArangoDB)\n",
    "\n",
    "### Background\n",
    "\n",
    "An instance of ArangoDB can be run using the official Docker\n",
    "image. For example, a instance with authentication disabled can be run\n",
    "as follows:\n",
    "\n",
    "``` bash\n",
    "docker run \\\n",
    "  -e ARANGO_NOAUTH=1 \\\n",
    "  -p 8529:8529 \\\n",
    "  -d \\\n",
    "  -v $ARANGODB_HOME:/var/lib/arangodb3 \\\n",
    "  arangodb\n",
    "```\n",
    "\n",
    "where `ARANGODB_HOME` has been set to the name of the directory in\n",
    "which to persist data. Now `python-arango` can be used to interact\n",
    "with the database system using Python.\n",
    "\n",
    "The following sections describe various development environments\n",
    "\n",
    "See:\n",
    "\n",
    "-   [ArangoDB Docker image](https://hub.docker.com/_/arangodb)\n",
    "-   [python-arango](https://docs.python-arango.com/en/main/#)\n",
    "-   [springbok-nlm-kn/README.md](https://github.com/ralatsdc/springbok-nlm-kn/blob/main/README.md)\n",
    "\n",
    "### Jupyter Notebook development environment\n",
    "\n",
    "Launch Jupyter Notebook from a terminal in which `.zshenv` has been\n",
    "sourced, and the virtual environment has been activated.\n",
    "\n",
    "### Emacs Org Mode development environment\n",
    "\n",
    "Launch Emacs from a terminal in which `.zshenv` has been sourced, then\n",
    "evaluate this code block to activate the virtual environment:\n",
    "\n",
    "``` commonlisp\n",
    "(pyvenv-activate \"../../.venv\")\n",
    "```\n",
    "\n",
    "## Create or get, and delete an ArangoDB database\n",
    "\n",
    "To begin, we import modules, and assign module scope variables:"
   ],
   "id": "34965fda-c4e2-4229-90cc-dba707d6bf6a"
  },
  {
   "cell_type": "code",
   "execution_count": null,
   "metadata": {
    "results": "silent",
    "session": "shared",
    "tangle": "../py/ArangoDB.py"
   },
   "outputs": [],
   "source": [
    "import ast\n",
    "from glob import glob\n",
    "import os\n",
    "from traceback import print_exc\n",
    "\n",
    "from arango import ArangoClient\n",
    "import pandas as pd\n",
    "\n",
    "ARANGO_URL = \"http://localhost:8529\"\n",
    "ARANGO_CLIENT = ArangoClient(hosts=ARANGO_URL)\n",
    "ARANGO_ROOT_PASSWORD = os.getenv(\"ARANGO_ROOT_PASSWORD\", \"\")\n",
    "SYS_DB = ARANGO_CLIENT.db(\"_system\", username=\"root\", password=ARANGO_ROOT_PASSWORD)\n",
    "\n",
    "DATA_DIR = \"../data\"\n",
    "\n",
    "NCBI_CELL_DIR = f\"{DATA_DIR}/ncbi-cell\"\n",
    "NSFOREST_DIR = f\"{DATA_DIR}/nsforest-2024-06-27\"\n"
   ],
   "id": "c2bbec72-568a-4690-89f5-b139b4443ed6"
  },
  {
   "cell_type": "markdown",
   "metadata": {},
   "source": [
    "Arango maintains a system database which is used for administering all\n",
    "other databases. Since we anticipate needing to create multiple\n",
    "versions of the database used for the NCBI Cell pilot, we append a\n",
    "semantic version to the database name. And we adopt the convention of\n",
    "creating the database, if needed, or getting it, otherwise. We will\n",
    "follow this convention when handling other database objects\n",
    "later. Here's the function we need:"
   ],
   "id": "b29cd78f-8e86-4e77-8462-5d8792e3add8"
  },
  {
   "cell_type": "code",
   "execution_count": null,
   "metadata": {
    "results": "silent",
    "session": "shared",
    "tangle": "../py/ArangoDB.py"
   },
   "outputs": [],
   "source": [
    "def create_or_get_database(database_name):\n",
    "    \"\"\"Create or get an ArangoDB database.\n",
    "\n",
    "    Parameters\n",
    "    ----------\n",
    "    database_name : str\n",
    "        Name of the database to create or get\n",
    "\n",
    "    Returns\n",
    "    -------\n",
    "    db : arango.database.StandardDatabase\n",
    "        Database\n",
    "    \"\"\"\n",
    "    # Create database, if needed\n",
    "    if not SYS_DB.has_database(database_name):\n",
    "        print(f\"Creating ArangoDB database: {database_name}\")\n",
    "        SYS_DB.create_database(database_name)\n",
    "\n",
    "    # Connect to database\n",
    "    print(f\"Getting ArangoDB database: {database_name}\")\n",
    "    db = ARANGO_CLIENT.db(database_name, username=\"root\", password=ARANGO_ROOT_PASSWORD)\n",
    "\n",
    "    return db\n"
   ],
   "id": "ab59c469-f525-41ee-a149-833a8cb5329a"
  },
  {
   "cell_type": "markdown",
   "metadata": {},
   "source": [
    "Note that we can delete the database as follows:"
   ],
   "id": "6f5e214c-6984-4262-93b1-512c3e2957a2"
  },
  {
   "cell_type": "code",
   "execution_count": null,
   "metadata": {
    "results": "silent",
    "session": "shared",
    "tangle": "../py/ArangoDB.py"
   },
   "outputs": [],
   "source": [
    "def delete_database(database_name):\n",
    "    \"\"\"Delete an ArangoDB database.\n",
    "\n",
    "    Parameters\n",
    "    ----------\n",
    "    database_name : str\n",
    "        Name of the database to delete\n",
    "\n",
    "    Returns\n",
    "    -------\n",
    "    None\n",
    "    \"\"\"\n",
    "    # Delete database, if needed\n",
    "    if SYS_DB.has_database(database_name):\n",
    "        print(f\"Deleting ArangoDB database: {database_name}\")\n",
    "        SYS_DB.delete_database(database_name)\n"
   ],
   "id": "e6236a5d-658e-4abe-8d52-2de9c12ef61a"
  },
  {
   "cell_type": "markdown",
   "metadata": {},
   "source": [
    "Now initialize a named database:"
   ],
   "id": "5f3421ed-97a3-4cca-b805-997d0926fe6b"
  },
  {
   "cell_type": "code",
   "execution_count": null,
   "metadata": {
    "results": "output",
    "session": "shared"
   },
   "outputs": [],
   "source": [
    "try:\n",
    "    database_name = \"nlm-cell-kn-v0.1.0\"\n",
    "    delete_database(database_name)\n",
    "    db = create_or_get_database(database_name)\n",
    "except Exception:\n",
    "    print_exc()\n"
   ],
   "id": "00f7bfb8-d74f-46bd-b279-9f040af2e68e"
  },
  {
   "cell_type": "markdown",
   "metadata": {},
   "source": [
    "## Create or get, and delete a database graph\n",
    "\n",
    "For purposes of this demonstration, we assume we have run NS-Forest\n",
    "for a set of CELLxGENE datasets, as shown in Chapter 03, naively using\n",
    "the default `cluster_header` of `\"cell_type\"` to obtain a set of\n",
    "marker genes for each cell type included in each dataset. It is\n",
    "natural, then, to treat cell types and marker genes as vertices of a\n",
    "graph. ArangoDB collects vertices in named collections, so we will use\n",
    "the names `cell` and `gene`.\n",
    "\n",
    "See: [Chapter-03-NS-Forest.ipynb](Chapter-03-NS-Forest.ipynb)\n",
    "\n",
    "Following our convention, we create the graph, if needed, or get it,\n",
    "otherwise. Here's the function:"
   ],
   "id": "1871fbae-009e-4889-95a1-fee132cb3a3c"
  },
  {
   "cell_type": "code",
   "execution_count": null,
   "metadata": {
    "results": "silent",
    "session": "shared",
    "tangle": "../py/ArangoDB.py"
   },
   "outputs": [],
   "source": [
    "def create_or_get_graph(db, graph_name):\n",
    "    \"\"\"Create or get an ArangoDB database graph.\n",
    "\n",
    "    Parameters\n",
    "    ----------\n",
    "    db : arango.database.StandardDatabase\n",
    "        Database\n",
    "    graph_name : str\n",
    "        Name of the graph to create or get\n",
    "\n",
    "    Returns\n",
    "    -------\n",
    "    graph : arango.graph.Graph\n",
    "        Database graph\n",
    "    \"\"\"\n",
    "    # Create, or get the graph\n",
    "    if not db.has_graph(graph_name):\n",
    "        print(f\"Creating database graph: {graph_name}\")\n",
    "        graph = db.create_graph(graph_name)\n",
    "    else:\n",
    "        print(f\"Getting database graph: {graph_name}\")\n",
    "        graph = db.graph(graph_name)\n",
    "\n",
    "    return graph\n"
   ],
   "id": "564eb68e-a619-4a9d-bbdd-a3342b28e3bb"
  },
  {
   "cell_type": "markdown",
   "metadata": {},
   "source": [
    "Although we anticipate needing to create multiple graphs within the\n",
    "NCBI Cell pilot database, we will only create one graph here. We adopt\n",
    "the convention of labeling the graph by it's vertices:"
   ],
   "id": "cec4b677-84a6-4939-b159-307991186f0c"
  },
  {
   "cell_type": "code",
   "execution_count": null,
   "metadata": {
    "results": "output",
    "session": "shared"
   },
   "outputs": [],
   "source": [
    "graph_name = \"cell-gene\"\n",
    "graph = create_or_get_graph(db, graph_name)\n"
   ],
   "id": "043195c6-7a2c-4868-9411-8130201664a2"
  },
  {
   "cell_type": "markdown",
   "metadata": {},
   "source": [
    "Note that we can delete the graph as follows:"
   ],
   "id": "5dae0e7d-79ca-40c8-bd82-466573c439b4"
  },
  {
   "cell_type": "code",
   "execution_count": null,
   "metadata": {
    "results": "silent",
    "session": "shared",
    "tangle": "../py/ArangoDB.py"
   },
   "outputs": [],
   "source": [
    "def delete_graph(db, graph_name):\n",
    "    \"\"\"Delete an ArangoDB database graph.\n",
    "\n",
    "    Parameters\n",
    "    ----------\n",
    "    db : arango.database.StandardDatabase\n",
    "        Database\n",
    "    graph_name : str\n",
    "        Name of the graph to delete\n",
    "\n",
    "    Returns\n",
    "    -------\n",
    "    None\n",
    "    \"\"\"\n",
    "    # Delete the graph\n",
    "    if db.has_graph(graph_name):\n",
    "        print(f\"Deleting database graph: {graph_name}\")\n",
    "        db.delete_graph(graph_name)\n"
   ],
   "id": "52196448-39a4-4694-9809-8312c6e4cd6f"
  },
  {
   "cell_type": "markdown",
   "metadata": {},
   "source": [
    "## Create or get, and delete a graph vertex collection\n",
    "\n",
    "Following our earlier conventions, here's the function we need:"
   ],
   "id": "f660f85d-0839-4154-a8af-5f5bb5dc4d65"
  },
  {
   "cell_type": "code",
   "execution_count": null,
   "metadata": {
    "results": "silent",
    "session": "shared",
    "tangle": "../py/ArangoDB.py"
   },
   "outputs": [],
   "source": [
    "def create_or_get_vertex_collection(graph, vertex_name):\n",
    "    \"\"\"Create, or get an ArangoDB database graph vertex collection.\n",
    "\n",
    "    Parameters\n",
    "    ----------\n",
    "    graph : arango.graph.Graph\n",
    "        Graph\n",
    "    vertex_name : str\n",
    "        Name of the vertex collection to create or get\n",
    "\n",
    "    Returns\n",
    "    -------\n",
    "    collection : arango.collection.VertexCollection\n",
    "        Graph vertex collection\n",
    "    \"\"\"\n",
    "    # Create, or get the vertex collection\n",
    "    if not graph.has_vertex_collection(vertex_name):\n",
    "        print(f\"Creating graph vertex collection: {vertex_name}\")\n",
    "        collection = graph.create_vertex_collection(vertex_name)\n",
    "    else:\n",
    "        print(f\"Getting graph vertex collection: {vertex_name}\")\n",
    "        collection = graph.vertex_collection(vertex_name)\n",
    "\n",
    "    return collection\n"
   ],
   "id": "81986e61-5ecd-4b8d-a7a9-ecd4def69997"
  },
  {
   "cell_type": "markdown",
   "metadata": {},
   "source": [
    "Now we create the two named vertex collections:"
   ],
   "id": "8dc03b3a-2cce-4d66-9a5f-5db7e663c9cd"
  },
  {
   "cell_type": "code",
   "execution_count": null,
   "metadata": {
    "results": "output",
    "session": "shared"
   },
   "outputs": [],
   "source": [
    "cell_vertex_name = \"cell\"\n",
    "cell = create_or_get_vertex_collection(graph, cell_vertex_name)\n",
    "gene_vertex_name = \"gene\"\n",
    "gene = create_or_get_vertex_collection(graph, gene_vertex_name)\n"
   ],
   "id": "27bff036-7c74-4f86-b4ff-c414d42fbbf9"
  },
  {
   "cell_type": "markdown",
   "metadata": {},
   "source": [
    "Note that we can delete a vertex collection as follows:"
   ],
   "id": "f620060f-bae0-476f-8111-a7de72bcbf5a"
  },
  {
   "cell_type": "code",
   "execution_count": null,
   "metadata": {
    "results": "silent",
    "session": "shared",
    "tangle": "../py/ArangoDB.py"
   },
   "outputs": [],
   "source": [
    "def delete_vertex_collection(graph, vertex_name):\n",
    "    \"\"\"Delete an ArangoDB database graph vertex collection.\n",
    "\n",
    "    Parameters\n",
    "    ----------\n",
    "    graph : arango.graph.Graph\n",
    "        Graph\n",
    "    vertex_name : str\n",
    "        Name of the vertex collection to delete\n",
    "\n",
    "    Returns\n",
    "    -------\n",
    "    None\n",
    "    \"\"\"\n",
    "    # Delete the vertex collection\n",
    "    if graph.has_vertex_collection(vertex_name):\n",
    "        print(f\"Deleting graph vertex collection: {vertex_name}\")\n",
    "        graph.delete_vertex_collection(vertex_name)\n"
   ],
   "id": "7c3824a0-93e2-449b-b999-51339fe7b790"
  },
  {
   "cell_type": "markdown",
   "metadata": {},
   "source": [
    "## Create or get, and delete a graph edge definition and collection\n",
    "\n",
    "ArangoDB can create edge collections by specifying an edge definition\n",
    "consisting of a from and to vertex collection. When using this\n",
    "approach, edges cannot be inserted into the collection unless valid.\n",
    "Here's the function we need, taking this defensive approach:"
   ],
   "id": "2b018b3e-1f97-4084-acb7-0ec9c1eaa84a"
  },
  {
   "cell_type": "code",
   "execution_count": null,
   "metadata": {
    "results": "silent",
    "session": "shared",
    "tangle": "../py/ArangoDB.py"
   },
   "outputs": [],
   "source": [
    "def create_or_get_edge_collection(graph, from_vertex_name, to_vertex_name):\n",
    "    \"\"\"Create, or get an ArangoDB database edge collection from and\n",
    "    to the specified vertices.\n",
    "\n",
    "    Parameters\n",
    "    ----------\n",
    "    graph : arango.graph.Graph\n",
    "        Graph\n",
    "    from_vertex : str\n",
    "        Name of the vertex collection from which the edge originates\n",
    "    to_vertex : str\n",
    "        Name of the vertex collection to which the edge terminates\n",
    "\n",
    "    Returns\n",
    "    -------\n",
    "    collection : arango.collection.EdgeCollection\n",
    "        Graph edge collection\n",
    "    collection_name : str\n",
    "        Name of the edge collection\n",
    "    \"\"\"\n",
    "    # Create, or get the edge collection\n",
    "    collection_name = f\"{from_vertex_name}-{to_vertex_name}\"\n",
    "    if not graph.has_edge_definition(collection_name):\n",
    "        print(f\"Creating edge definition: {collection_name}\")\n",
    "        collection = graph.create_edge_definition(\n",
    "            edge_collection=collection_name,\n",
    "            from_vertex_collections=[f\"{from_vertex_name}\"],\n",
    "            to_vertex_collections=[f\"{to_vertex_name}\"],\n",
    "        )\n",
    "    else:\n",
    "        print(f\"Getting edge collection: {collection_name}\")\n",
    "        collection = graph.edge_collection(collection_name)\n",
    "\n",
    "    return collection, collection_name\n"
   ],
   "id": "a5b1c1cc-0f9f-4887-a305-1e988f94a7f9"
  },
  {
   "cell_type": "markdown",
   "metadata": {},
   "source": [
    "Now create a single edge collection from cell to gene vertices:"
   ],
   "id": "5504737e-3c05-416c-9f70-b1843e3cfee8"
  },
  {
   "cell_type": "code",
   "execution_count": null,
   "metadata": {
    "results": "output",
    "session": "shared"
   },
   "outputs": [],
   "source": [
    "cell_gene, edge_name = create_or_get_edge_collection(graph, \"cell\", \"gene\")\n"
   ],
   "id": "d06f844a-02a2-4b66-b1d5-915b191a8e1b"
  },
  {
   "cell_type": "markdown",
   "metadata": {},
   "source": [
    "Note that we can delete an edge collection as follows:"
   ],
   "id": "270d1266-5cd8-4451-b2cd-0c693293b97d"
  },
  {
   "cell_type": "code",
   "execution_count": null,
   "metadata": {
    "results": "silent",
    "session": "shared",
    "tangle": "../py/ArangoDB.py"
   },
   "outputs": [],
   "source": [
    "def delete_edge_collection(graph, edge_name):\n",
    "    \"\"\"Delete an ArangoDB database graph edge definition and collection.\n",
    "\n",
    "    Parameters\n",
    "    ----------\n",
    "    graph : arango.graph.Graph\n",
    "        Graph\n",
    "    edge_name : str\n",
    "        Name of the edge definition and collection to delete\n",
    "\n",
    "    Returns\n",
    "    -------\n",
    "    None\n",
    "    \"\"\"\n",
    "    # Delete the collection\n",
    "    if graph.has_edge_definition(edge_name):\n",
    "        print(f\"Deleting graph edge definition and collection: {edge_name}\")\n",
    "        graph.delete_edge_definition(edge_name)\n"
   ],
   "id": "e86b1f30-2d1f-49d7-90cb-c71055a1ee69"
  },
  {
   "cell_type": "markdown",
   "metadata": {},
   "source": [
    "## Insert graph vertices and edges\n",
    "\n",
    "Assuming the NS-Forest results reside in directory `NSFOREST_DIR`, we\n",
    "read each results file, then insert a vertex for each cell type and\n",
    "marker gene. Note that ArangoDB vertices can contain arbitrary\n",
    "content, so we collect the dataset identifiers for cell and gene\n",
    "vertices, and cluster names for gene vertices to use for inserting\n",
    "edges to dataset vertices we might add later."
   ],
   "id": "e6daaf15-164a-47b8-a1a8-4e84e69d7dd4"
  },
  {
   "cell_type": "code",
   "execution_count": null,
   "metadata": {
    "results": "output",
    "session": "shared"
   },
   "outputs": [],
   "source": [
    "try:\n",
    "    # Read each NSForest results file\n",
    "    for fn in glob(f\"{NSFOREST_DIR}/*/*.csv\"):\n",
    "        print(f\"Reading results file: {fn}\")\n",
    "        df = pd.read_csv(fn)\n",
    "\n",
    "        # Append the dataset_id\n",
    "        dataset_id = os.path.basename(os.path.dirname(fn))\n",
    "        df[\"dataset_id\"] = dataset_id\n",
    "\n",
    "        # Consider each row of the DataFrame\n",
    "        for index, row in df.iterrows():\n",
    "\n",
    "            # Insert or update a cell vertex using the row clusterName\n",
    "            # as key, collecting all dataset_ids corresponding to the\n",
    "            # cell vertex\n",
    "            cll_key = row[\"clusterName\"].replace(\" \", \"-\").replace(\",\", \":\")\n",
    "            if not cell.has(cll_key):\n",
    "                d = {\n",
    "                    \"_key\": cll_key,\n",
    "                    \"clusterName\": row[\"clusterName\"],\n",
    "                    \"dataset_ids\": [row[\"dataset_id\"]],\n",
    "                }\n",
    "                print(f\"Inserting cell: {cll_key}\")\n",
    "                cell.insert(d)\n",
    "\n",
    "            else:\n",
    "                d = cell.get(cll_key)\n",
    "                d[\"dataset_ids\"].append(row[\"dataset_id\"])\n",
    "                print(f\"Updating cell: {cll_key}\")\n",
    "                cell.update(d)\n",
    "\n",
    "            # Consider each marker in the row\n",
    "            for mrk in ast.literal_eval(row[\"NSForest_markers\"]):\n",
    "\n",
    "                # Insert or update a gene vertex using the marker as\n",
    "                # key, collecting all clusterNames and dataset_ids\n",
    "                # corresponding to the gene vertex\n",
    "                gn_key = mrk\n",
    "                if not gene.has(gn_key):\n",
    "                    d = {\n",
    "                        \"_key\": gn_key,\n",
    "                        \"clusterNames\": [row[\"clusterName\"]],\n",
    "                        \"dataset_ids\": [row[\"dataset_id\"]],\n",
    "                    }\n",
    "                    print(f\"Inserting gene: {gn_key}\")\n",
    "                    gene.insert(d)\n",
    "\n",
    "                else:\n",
    "                    d = gene.get(gn_key)\n",
    "                    d[\"clusterNames\"].append(row[\"clusterName\"])\n",
    "                    d[\"dataset_ids\"].append(row[\"dataset_id\"])\n",
    "                    print(f\"Updating gene: {gn_key}\")\n",
    "                    gene.update(d)\n",
    "\n",
    "                # Insert an edge from the cell vertex to the gene\n",
    "                # vertex, if needed\n",
    "                d = {\n",
    "                    \"_key\": f\"{cll_key}-{gn_key}\",\n",
    "                    \"_from\": f\"cell/{cll_key}\",\n",
    "                    \"_to\": f\"gene/{gn_key}\",\n",
    "                }\n",
    "                if not cell_gene.has(d):\n",
    "                    print(\n",
    "                        f\"Inserting edge from cell vertex with key: {cll_key} to gene vertex with key: {gn_key}\"\n",
    "                    )\n",
    "                    cell_gene.insert(d)\n",
    "except Exception:\n",
    "    print_exc()\n"
   ],
   "id": "be41be29-3cf5-48c5-95ad-17b6c4b631ba"
  },
  {
   "cell_type": "markdown",
   "metadata": {},
   "source": [
    "Note that all of the database objects created can be deleted as follows:"
   ],
   "id": "c9b31999-6330-4838-8485-1918c1765bea"
  },
  {
   "cell_type": "code",
   "execution_count": null,
   "metadata": {
    "results": "output",
    "session": "shared"
   },
   "outputs": [],
   "source": [
    "delete_edge_collection(graph, edge_name)\n",
    "delete_vertex_collection(graph, gene_vertex_name)\n",
    "delete_vertex_collection(graph, cell_vertex_name)\n",
    "delete_graph(db, graph_name)\n",
    "delete_database(database_name)\n"
   ],
   "id": "2c7870e8-ab90-495c-a105-ca04a03e99f0"
  },
  {
   "cell_type": "markdown",
   "metadata": {},
   "source": [
    "Next, in Chapter 06 we'll use Nextflow to process CELLxGENE H5AD files\n",
    "using NS-Forest.\n",
    "\n",
    "See:\n",
    "\n",
    "-   [Chapter-06-Nextflow.ipynb](Chapter-06-Nextflow.ipynb)\n",
    "-   [Chapter-03-NS-Forest.ipynb](Chapter-03-NS-Forest.ipynb)"
   ],
   "id": "7c4ac7c5-65b7-4694-9901-ce5b8a9e9444"
  }
 ],
 "nbformat": 4,
 "nbformat_minor": 5,
 "metadata": {}
}
