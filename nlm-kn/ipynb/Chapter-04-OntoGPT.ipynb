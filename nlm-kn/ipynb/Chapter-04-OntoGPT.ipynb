{
 "cells": [
  {
   "cell_type": "markdown",
   "metadata": {},
   "source": [
    "# Chapter 04: Use of OntoGPT\n",
    "\n",
    "Ray LeClair \\<2024-07-08 Mon\\>\n",
    "\n",
    "## Objectives\n",
    "\n",
    "Since the NCBI Cell pipeline calls for the use of a Large Language\n",
    "Model (LLM) to process publications associated with CELLxGENE\n",
    "datasets, the objective of this document is to:\n",
    "\n",
    "-   Investigate the use of OntoGPT for publication processing\n",
    "\n",
    "OntoGP is a Python package for extracting structured information from\n",
    "text using LLMs, instruction prompts, and ontology-based grounding.\n",
    "\n",
    "See: [OntoGPT](https://monarch-initiative.github.io/ontogpt/)\n",
    "\n",
    "### Background\n",
    "\n",
    "The primary extraction method currently implemented in OntoGPT is\n",
    "SPIRES: Structured Prompt Interrogation and Recursive Extraction of\n",
    "Semantics, which:\n",
    "\n",
    "-   Implements a Zero-Shot Learning (ZSL) approach to extracting nested\n",
    "    semantic structures from text\n",
    "\n",
    "-   Uses OpenAI GPT models through their API\n",
    "\n",
    "This demonstration use the `pubmed-annotate` function to retrieve full\n",
    "text of a publicaiton given a PubMed identifier (PMID), then performs\n",
    "extraction on the text with SPIRES using the \"Cell Type\" template.\n",
    "\n",
    "The following sections describe various development environments\n",
    "\n",
    "See:\n",
    "\n",
    "-   [SPIRES: Structured Prompt Interrogation and Recursive Extraction of Semantics](https://academic.oup.com/bioinformatics/article/40/3/btae104/7612230)\n",
    "-   [pubmed-annotate](https://monarch-initiative.github.io/ontogpt/functions/#pubmed-annotate)\n",
    "-   [Cell Type](https://monarch-initiative.github.io/ontogpt/cell_type/)\n",
    "-   [springbok-nlm-kn/README.md](https://github.com/ralatsdc/springbok-nlm-kn/blob/main/README.md)\n",
    "\n",
    "### Jupyter Notebook development environment\n",
    "\n",
    "Launch Jupyter Notebook from a terminal in which `.zshenv` has been\n",
    "sourced, and the virtual environment has been activated.\n",
    "\n",
    "### Emacs Org Mode development environment\n",
    "\n",
    "Launch Emacs from a terminal in which `.zshenv` has been sourced, then\n",
    "evaluate this code block to activate the virtual environment:\n",
    "\n",
    "``` commonlisp\n",
    "(pyvenv-activate \"../../.venv\")\n",
    "```\n",
    "\n",
    "## Investigate the use of OntoGPT for publication processing\n",
    "\n",
    "To begin, we import modules, and assign module scope variables:"
   ],
   "id": "713affef-e625-4bfd-9080-a2a18a2627ca"
  },
  {
   "cell_type": "code",
   "execution_count": null,
   "metadata": {
    "results": "silent",
    "session": "shared",
    "tangle": "../py/OntoGPT.py"
   },
   "outputs": [],
   "source": [
    "import os\n",
    "import subprocess\n",
    "from traceback import print_exc\n",
    "\n",
    "DATA_DIR = \"../data\"\n",
    "\n",
    "ONTOGPT_DIR = f\"{DATA_DIR}/ontogpt\"\n"
   ],
   "id": "935ec89f-c8e8-4268-a5e9-e9ab9245c3eb"
  },
  {
   "cell_type": "markdown",
   "metadata": {},
   "source": [
    "Then recall that in [Chapter-02-E-Utilities.org](Chapter-02-E-Utilities.org) we saw how to get the\n",
    "PMID for a title:"
   ],
   "id": "1e4eeb3c-18ed-4243-ad20-ed86f2729b24"
  },
  {
   "cell_type": "code",
   "execution_count": null,
   "metadata": {
    "results": "output",
    "session": "shared"
   },
   "outputs": [],
   "source": [
    "from CELLxGENE import get_lung_obs_and_datasets, get_title\n",
    "from E_Utilities import get_pmid_for_title\n",
    "try:\n",
    "    lung_obs, lung_datasets = get_lung_obs_and_datasets()\n",
    "    citation = lung_datasets[\"citation\"].iloc[4]\n",
    "    title = get_title(citation)\n",
    "    pmid = get_pmid_for_title(title)\n",
    "except Exception:\n",
    "    print_exc()\n",
    "print(f\"PMID: {pmid} found for title: {title}\")\n"
   ],
   "id": "f75e1b59-d5d3-4f21-8368-1fdb9652a16f"
  },
  {
   "cell_type": "markdown",
   "metadata": {},
   "source": [
    "Since the `pubmed-annotate` function of OntoGPT is run on the command\n",
    "line, we use Python's `subprocess` module, caching results in a file\n",
    "to prevent duplicate processing:"
   ],
   "id": "411b2a18-5a79-4771-b7d1-101ad20577d8"
  },
  {
   "cell_type": "code",
   "execution_count": null,
   "metadata": {
    "results": "silent",
    "session": "shared",
    "tangle": "../py/OntoGPT.py"
   },
   "outputs": [],
   "source": [
    "def run_ontogpt_pubmed_annotate(pmid):\n",
    "    \"\"\"Run the OntoGPT pubmed-annotate function for the specified PMID\n",
    "    associated with a dataset.\n",
    "\n",
    "    Parameters\n",
    "    ----------\n",
    "    pmid : str\n",
    "       The PubMed identifier found\n",
    "\n",
    "    Returns\n",
    "    -------\n",
    "    None\n",
    "    \"\"\"\n",
    "    # Run OntoGPT pubmed-annotate function, if needed\n",
    "    if pmid is None:\n",
    "        return\n",
    "    output_filename = f\"{pmid}.out\"\n",
    "    output_filepath = f\"{ONTOGPT_DIR}/{output_filename}\"\n",
    "    if not os.path.exists(output_filepath):\n",
    "        print(f\"Running ontogpt pubmed-annotate for PMID: {pmid}\")\n",
    "        subprocess.run(\n",
    "            [\n",
    "                \"ontogpt\",\n",
    "                \"pubmed-annotate\",\n",
    "                \"--template\",\n",
    "                \"cell_type\",\n",
    "                pmid,\n",
    "                \"--limit\",\n",
    "                \"1\",\n",
    "                \"--output\",\n",
    "                output_filepath,\n",
    "            ],\n",
    "        )\n",
    "        print(f\"Completed ontogpt pubmed-annotate for PMID: {pmid}\")\n",
    "\n",
    "    else:\n",
    "        print(f\"Ontogpt pubmed-annotate output for PMID: {pmid} exists\")\n"
   ],
   "id": "ae21cf25-df37-4954-8708-e0664a9f23b9"
  },
  {
   "cell_type": "markdown",
   "metadata": {},
   "source": [
    "Now call the function with the PMID obtained earler:"
   ],
   "id": "ab727124-95f2-42bb-8f9e-00fba77c65ee"
  },
  {
   "cell_type": "code",
   "execution_count": null,
   "metadata": {
    "results": "output",
    "session": "shared"
   },
   "outputs": [],
   "source": [
    "try:\n",
    "    run_ontogpt_pubmed_annotate(pmid)\n",
    "except Exception:\n",
    "    print_exc()\n"
   ],
   "id": "d5857a71-b92e-4252-a814-25efc4ae69fc"
  },
  {
   "cell_type": "markdown",
   "metadata": {},
   "source": [
    "Next, in Chapter 05 we'll use the results produced by NS-Forest to\n",
    "populate an ArangoDB database graph.\n",
    "\n",
    "See:\n",
    "\n",
    "-   [Chapter-05-ArangoDB.ipynb](Chapter-05-ArangoDB.ipynb)\n",
    "-   [Chapter-03-NS-Forest.ipynb](Chapter-03-NS-Forest.ipynb)"
   ],
   "id": "2264b74c-cd5d-4881-ad48-de41871ac67c"
  }
 ],
 "nbformat": 4,
 "nbformat_minor": 5,
 "metadata": {}
}
