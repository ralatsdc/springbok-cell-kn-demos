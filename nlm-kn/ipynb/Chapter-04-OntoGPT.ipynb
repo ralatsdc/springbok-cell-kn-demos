{
 "cells": [
  {
   "cell_type": "markdown",
   "id": "6c217939-53fd-448b-a39b-f4ead77907f4",
   "metadata": {},
   "source": [
    "# Chapter 04: Use of OntoGPT\n",
    "\n",
    "Ray LeClair \\<2024-07-08 Mon\\>\n",
    "\n",
    "## Objectives\n",
    "\n",
    "Since the NCBI Cell pipeline calls for the use of a Large Language\n",
    "Model (LLM) to process publications associated with CELLxGENE\n",
    "datasets, the objective of this document is to:\n",
    "\n",
    "-   Investigate the use of OntoGPT for publication processing\n",
    "\n",
    "OntoGP is a Python package for extracting structured information from\n",
    "text using LLMs, instruction prompts, and ontology-based grounding.\n",
    "\n",
    "See: [OntoGPT](https://monarch-initiative.github.io/ontogpt/)\n",
    "\n",
    "### Background\n",
    "\n",
    "The primary extraction method currently implemented in OntoGPT is\n",
    "SPIRES: Structured Prompt Interrogation and Recursive Extraction of\n",
    "Semantics, which:\n",
    "\n",
    "-   Implements a Zero-Shot Learning (ZSL) approach to extracting nested\n",
    "    semantic structures from text\n",
    "\n",
    "-   Uses OpenAI GPT models through their API\n",
    "\n",
    "This demonstration use the `pubmed-annotate` function to retrieve full\n",
    "text of a publicaiton given a PubMed identifier (PMID), then performs\n",
    "extraction on the text with SPIRES using the \"Cell Type\" template.\n",
    "\n",
    "The following sections describe various development environments\n",
    "\n",
    "See:\n",
    "\n",
    "-   [SPIRES: Structured Prompt Interrogation and Recursive Extraction of Semantics](https://academic.oup.com/bioinformatics/article/40/3/btae104/7612230)\n",
    "-   [pubmed-annotate](https://monarch-initiative.github.io/ontogpt/functions/#pubmed-annotate)\n",
    "-   [Cell Type](https://monarch-initiative.github.io/ontogpt/cell_type/)\n",
    "-   [springbok-nlm-kn/README.md](https://github.com/ralatsdc/springbok-nlm-kn/blob/main/README.md)\n",
    "\n",
    "### Jupyter Notebook development environment\n",
    "\n",
    "Launch Jupyter Notebook from a terminal in which `.zshenv` has been\n",
    "sourced, and the virtual environment has been activated.\n",
    "\n",
    "### Emacs Org Mode development environment\n",
    "\n",
    "Launch Emacs from a terminal in which `.zshenv` has been sourced, then\n",
    "evaluate this code block to activate the virtual environment:\n",
    "\n",
    "``` commonlisp\n",
    "(pyvenv-activate \"../../.venv\")\n",
    "```\n",
    "\n",
    "## Investigate the use of OntoGPT for publication processing\n",
    "\n",
    "To begin, we import modules, and assign module scope variables:"
   ]
  },
  {
   "cell_type": "code",
   "execution_count": 1,
   "id": "21f1e022-15ec-4e82-a0b2-97e76a7f5d8c",
   "metadata": {
    "results": "silent",
    "session": "shared",
    "tangle": "../py/OntoGPT.py"
   },
   "outputs": [],
   "source": [
    "import os\n",
    "import subprocess\n",
    "from traceback import print_exc\n",
    "\n",
    "DATA_DIR = \"../data\"\n",
    "\n",
    "ONTOGPT_DIR = f\"{DATA_DIR}/ontogpt\"\n"
   ]
  },
  {
   "cell_type": "markdown",
   "id": "640d9d81-b187-4290-a514-9198266c9e5b",
   "metadata": {},
   "source": [
    "Then recall that in [Chapter-02-E-Utilities.org](Chapter-02-E-Utilities.org) we saw how to get the\n",
    "PMID for a title:"
   ]
  },
  {
   "cell_type": "code",
   "execution_count": 2,
   "id": "5f0d3f69-b033-4ffb-93c0-9fd6f1c1600a",
   "metadata": {
    "results": "output",
    "session": "shared"
   },
   "outputs": [
    {
     "name": "stdout",
     "output_type": "stream",
     "text": [
      "Reading datasets parquet\n",
      "Reading summary cell counts parquet\n",
      "Reading gene metadata parquet\n",
      "Reading cell metadata parquet\n",
      "Getting title for citation URL: https://doi.org/10.1038/s41467-022-29450-x\n",
      "Trying requests\n",
      "Found title: 'Single-cell Atlas of common variable immunodeficiency shows germinal center-associated epigenetic dysregulation in B-cell responses' for citation URL: https://doi.org/10.1038/s41467-022-29450-x\n",
      "Getting PMID for title: 'Single-cell Atlas of common variable immunodeficiency shows germinal center-associated epigenetic dysregulation in B-cell responses'\n",
      "https://eutils.ncbi.nlm.nih.gov/entrez/eutils/esearch.fcgi\n",
      "{'db': 'pubmed', 'term': 'Single-cell Atlas of common variable immunodeficiency shows germinal center-associated epigenetic dysregulation in B-cell responses', 'field': 'title', 'retmode': 'json', 'email': 'raymond.leclair@gmail.com', 'api_key': '10a233bf53a1db01e78bc08e59520ace5e09'}\n",
      "Found PMID: 35365635 for title: 'Single-cell Atlas of common variable immunodeficiency shows germinal center-associated epigenetic dysregulation in B-cell responses'\n",
      "PMID: 35365635 found for title: Single-cell Atlas of common variable immunodeficiency shows germinal center-associated epigenetic dysregulation in B-cell responses\n"
     ]
    }
   ],
   "source": [
    "from CELLxGENE import get_metadata_and_datasets, get_title\n",
    "from E_Utilities import get_pmid_for_title\n",
    "try:\n",
    "    datasets, counts, var, obs = get_metadata_and_datasets()\n",
    "    citation = datasets[\"citation\"].iloc[4]\n",
    "    title = get_title(citation)\n",
    "    pmid = get_pmid_for_title(title)\n",
    "except Exception:\n",
    "    print_exc()\n",
    "print(f\"PMID: {pmid} found for title: {title}\")\n"
   ]
  },
  {
   "cell_type": "markdown",
   "id": "74c269a8-8f05-4acf-90f9-1d3ae7da8f44",
   "metadata": {},
   "source": [
    "Since the `pubmed-annotate` function of OntoGPT is run on the command\n",
    "line, we use Python's `subprocess` module, caching results in a file\n",
    "to prevent duplicate processing:"
   ]
  },
  {
   "cell_type": "code",
   "execution_count": 3,
   "id": "1c4aabb9-9de7-4d1d-b4a9-4bd0001c5c8a",
   "metadata": {
    "results": "silent",
    "session": "shared",
    "tangle": "../py/OntoGPT.py"
   },
   "outputs": [],
   "source": [
    "def run_ontogpt_pubmed_annotate(pmid):\n",
    "    \"\"\"Run the OntoGPT pubmed-annotate function for the specified PMID\n",
    "    associated with a dataset.\n",
    "\n",
    "    Parameters\n",
    "    ----------\n",
    "    pmid : str\n",
    "       The PubMed identifier found\n",
    "\n",
    "    Returns\n",
    "    -------\n",
    "    None\n",
    "    \"\"\"\n",
    "    # Run OntoGPT pubmed-annotate function, if needed\n",
    "    if pmid is None:\n",
    "        return\n",
    "    output_filename = f\"{pmid}.out\"\n",
    "    output_filepath = f\"{ONTOGPT_DIR}/{output_filename}\"\n",
    "    if not os.path.exists(output_filepath):\n",
    "        print(f\"Running ontogpt pubmed-annotate for PMID: {pmid}\")\n",
    "        subprocess.run(\n",
    "            [\n",
    "                \"ontogpt\",\n",
    "                \"pubmed-annotate\",\n",
    "                \"--template\",\n",
    "                \"cell_type\",\n",
    "                pmid,\n",
    "                \"--limit\",\n",
    "                \"1\",\n",
    "                \"--output\",\n",
    "                output_filepath,\n",
    "            ],\n",
    "        )\n",
    "        print(f\"Completed ontogpt pubmed-annotate for PMID: {pmid}\")\n",
    "\n",
    "    else:\n",
    "        print(f\"Ontogpt pubmed-annotate output for PMID: {pmid} exists\")\n"
   ]
  },
  {
   "cell_type": "markdown",
   "id": "9f508a03-6b1f-4298-9802-f645bf13feaf",
   "metadata": {},
   "source": [
    "Now call the function with the PMID obtained earler:"
   ]
  },
  {
   "cell_type": "code",
   "execution_count": 4,
   "id": "9e22a860-9607-468d-8906-d62575d195d5",
   "metadata": {
    "results": "output",
    "session": "shared"
   },
   "outputs": [
    {
     "name": "stdout",
     "output_type": "stream",
     "text": [
      "Ontogpt pubmed-annotate output for PMID: 35365635 exists\n"
     ]
    }
   ],
   "source": [
    "try:\n",
    "    run_ontogpt_pubmed_annotate(pmid)\n",
    "except Exception:\n",
    "    print_exc()\n"
   ]
  },
  {
   "cell_type": "markdown",
   "id": "dfb1ac10-54cf-4854-a403-8d421d2ecbba",
   "metadata": {},
   "source": [
    "Next, in Chapter 05 we'll use the results produced by NS-Forest to\n",
    "populate an ArangoDB database graph.\n",
    "\n",
    "See:\n",
    "\n",
    "-   [Chapter-05-ArangoDB.ipynb](Chapter-05-ArangoDB.ipynb)\n",
    "-   [Chapter-03-NS-Forest.ipynb](Chapter-03-NS-Forest.ipynb)"
   ]
  }
 ],
 "metadata": {
  "kernelspec": {
   "display_name": "Python 3 (ipykernel)",
   "language": "python",
   "name": "python3"
  },
  "language_info": {
   "codemirror_mode": {
    "name": "ipython",
    "version": 3
   },
   "file_extension": ".py",
   "mimetype": "text/x-python",
   "name": "python",
   "nbconvert_exporter": "python",
   "pygments_lexer": "ipython3",
   "version": "3.10.14"
  }
 },
 "nbformat": 4,
 "nbformat_minor": 5
}
