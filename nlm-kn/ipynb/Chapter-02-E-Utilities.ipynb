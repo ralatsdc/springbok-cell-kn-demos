{
 "cells": [
  {
   "cell_type": "markdown",
   "metadata": {},
   "source": [
    "**Chapter 02: Use of E-Utilities**\n",
    "\n",
    "Ray LeClair \\<2024-07-06 Sat\\>\n",
    "\n",
    "# Objectives\n",
    "\n",
    "Since the OntoGPT `pubmed-annotate` function requires a PubMed\n",
    "Identifier (PMID) as an argument, the objective of this document\n",
    "involves using the E-Utilities to search PubMed for a given title.\n",
    "\n",
    "See:\n",
    "\n",
    "-   [Chapter-04-ontoGPT.ipynb](Chapter-04-OntoGPT.ipynb)\n",
    "-   [E-Utilities](https://www.ncbi.nlm.nih.gov/books/NBK25499/)\n",
    "\n",
    "## Background\n",
    "\n",
    "The Entrez Programming Utilities (E-utilities) provide a stable API\n",
    "into the Entrez query and database system at the National Center for\n",
    "Biotechnology Information (NCBI).\n",
    "\n",
    "## Development environment\n",
    "\n",
    "See: [springbok-ncbi-cell/README.md](https://github.com/ralatsdc/springbok-ncbi-cell/blob/main/README.md)\n",
    "\n",
    "### Jupyter Notebook\n",
    "\n",
    "Launch Jupyter Notebook from a terminal in which `.zshenv` has been\n",
    "sourced, and the virtual environment has been activated.\n",
    "\n",
    "### Emacs Org Mode\n",
    "\n",
    "Launch Emacs from a terminal in which `.zshenv` has been sourced, then\n",
    "evaluate this code block to activate the virtual environment:\n",
    "\n",
    "``` commonlisp\n",
    "(pyvenv-activate \"../../.venv\")\n",
    "```\n",
    "\n",
    "# Identification of a title within PubMed\n",
    "\n",
    "To begin, we import modules, and assign module scope variables:"
   ],
   "id": "1d3ca38b-c760-462b-96f9-b83a7ca40632"
  },
  {
   "cell_type": "code",
   "execution_count": null,
   "metadata": {
    "results": "silent",
    "session": "shared",
    "tangle": "../py/E_Utilities.py"
   },
   "outputs": [],
   "source": [
    "import logging\n",
    "import os\n",
    "from time import sleep\n",
    "from traceback import print_exc\n",
    "from urllib import parse\n",
    "\n",
    "from bs4 import BeautifulSoup\n",
    "import requests\n",
    "\n",
    "DATA_DIR = \"../data\"\n",
    "\n",
    "EUTILS_URL = \"https://eutils.ncbi.nlm.nih.gov/entrez/eutils/\"\n",
    "NCBI_EMAIL = os.environ.get(\"NCBI_EMAIL\")\n",
    "NCBI_API_KEY = os.environ.get(\"NCBI_API_KEY\")\n",
    "NCBI_API_SLEEP = 1\n",
    "PUBMED = \"pubmed\"\n"
   ],
   "id": "009d1ef2-dda9-43f3-8736-73b7928c3350"
  },
  {
   "cell_type": "markdown",
   "metadata": {},
   "source": [
    "Now consider, for example, the citations provided by CELLxGENE for the\n",
    "human lung cell datasets. We looked at how to get the datasets, and\n",
    "the titles of the corresponding publications earlier.\n",
    "\n",
    "See: [Chapter-01-CELLxGENE.ipynb](Chapter-01-CELLxGENE.ipynb)"
   ],
   "id": "da2dab84-1416-4748-8f58-269584f255ba"
  },
  {
   "cell_type": "code",
   "execution_count": null,
   "metadata": {
    "results": "output",
    "session": "shared"
   },
   "outputs": [],
   "source": [
    "from CELLxGENE import get_lung_obs_and_datasets, get_title\n",
    "try:\n",
    "    lung_obs, lung_datasets = get_lung_obs_and_datasets()\n",
    "    citation = lung_datasets[\"citation\"].iloc[4]\n",
    "    title = get_title(citation)\n",
    "except Exception:\n",
    "    print_exc()\n"
   ],
   "id": "76dd2f6b-c54a-4441-9f7f-7d8a41dbc799"
  },
  {
   "cell_type": "markdown",
   "metadata": {},
   "source": [
    "Now we can write a function using the E-Utilities to search PubMed for\n",
    "the title:"
   ],
   "id": "6d9c625c-5726-44b0-9d01-d1ece321c5c9"
  },
  {
   "cell_type": "code",
   "execution_count": null,
   "metadata": {
    "results": "silent",
    "session": "shared",
    "tangle": "../py/E_Utilities.py"
   },
   "outputs": [],
   "source": [
    "def get_pmid_for_title(title):\n",
    "    \"\"\"Search PubMed using a title to find the corresponding PMID.\n",
    "\n",
    "    Parameters\n",
    "    ----------\n",
    "    title : str\n",
    "       The title to use in the search\n",
    "\n",
    "    Returns\n",
    "    -------\n",
    "    pmid : str\n",
    "       The PubMed identifier found\n",
    "    \"\"\"\n",
    "    # Need a default return value\n",
    "    pmid = None\n",
    "\n",
    "    # Search PubMed\n",
    "    if title is None:\n",
    "        return pmid\n",
    "    print(f\"Getting PMID for title: '{title}'\")\n",
    "    search_url = EUTILS_URL + \"esearch.fcgi\"\n",
    "    print(search_url)\n",
    "    params = {\n",
    "        \"db\": PUBMED,\n",
    "        \"term\": title,\n",
    "        \"field\": \"title\",\n",
    "        \"retmode\": \"json\",\n",
    "        # \"retmax\": 0,\n",
    "        \"email\": NCBI_EMAIL,\n",
    "        \"api_key\": NCBI_API_KEY,\n",
    "    }\n",
    "    print(params)\n",
    "    sleep(NCBI_API_SLEEP)\n",
    "    response = requests.get(search_url, params=parse.urlencode(params, safe=\",\"))\n",
    "    if response.status_code == 200:\n",
    "        data = response.json()\n",
    "        resultcount = int(data[\"esearchresult\"][\"count\"])\n",
    "\n",
    "        if resultcount > 1:\n",
    "            # Response contains more than once result, so fetch each\n",
    "            # PMID until title matches\n",
    "            logging.warning(f\"PubMed returned more than one result for title: {title}\")\n",
    "            for _pmid in data[\"esearchresult\"][\"idlist\"]:\n",
    "                _title = get_title_for_pmid(_pmid)\n",
    "                if (\n",
    "                    _title == title + \".\"\n",
    "                ):  # PMID fetch includes period in title, title search does not\n",
    "                    pmid = _pmid\n",
    "                    break\n",
    "\n",
    "        else:\n",
    "            pmid = data[\"esearchresult\"][\"idlist\"][0]\n",
    "\n",
    "        print(f\"Found PMID: {pmid} for title: '{title}'\")\n",
    "\n",
    "    elif response.status_code == 429:\n",
    "        logging.error(\"Too many requests to NCBI API. Try again later, or use API key.\")\n",
    "\n",
    "    else:\n",
    "        logging.error(f\"Encountered error in searching PubMed: {response.status_code}\")\n",
    "\n",
    "    return pmid\n"
   ],
   "id": "da0e6f81-6a04-42ad-b895-26a5ea3a1418"
  },
  {
   "cell_type": "markdown",
   "metadata": {},
   "source": [
    "In the process of testing this function we discover that multiple\n",
    "PubMed Identifiers (PMIDs) can be returned. So we need to write a\n",
    "function that returns the title for a given PMID to confirm which of\n",
    "the multiple PMIDs returned is correct as follows:"
   ],
   "id": "a52a51c3-154d-4ebd-ac49-ceb7bef252fe"
  },
  {
   "cell_type": "code",
   "execution_count": null,
   "metadata": {
    "results": "silent",
    "session": "shared",
    "tangle": "../py/E_Utilities.py"
   },
   "outputs": [],
   "source": [
    "def get_title_for_pmid(pmid):\n",
    "    \"\"\"Fetch from PubMed using a PMID to find the corresponding title.\n",
    "\n",
    "    Parameters\n",
    "    ----------\n",
    "    pmid : str\n",
    "       The PubMed identifier to use in the fetch\n",
    "\n",
    "    Returns\n",
    "    -------\n",
    "    title : str\n",
    "       The title fetched\n",
    "    \"\"\"\n",
    "    # Need a default return value\n",
    "    title = None\n",
    "\n",
    "    # Fetch from PubMed\n",
    "    fetch_url = EUTILS_URL + \"efetch.fcgi\"\n",
    "    params = {\n",
    "        \"db\": PUBMED,\n",
    "        \"id\": pmid,\n",
    "        \"rettype\": \"xml\",\n",
    "        \"email\": NCBI_EMAIL,\n",
    "        \"api_key\": NCBI_API_KEY,\n",
    "    }\n",
    "    sleep(NCBI_API_SLEEP)\n",
    "    response = requests.get(fetch_url, params=parse.urlencode(params, safe=\",\"))\n",
    "    if response.status_code == 200:\n",
    "        xml_data = response.text\n",
    "\n",
    "        # Got the page, so parse it, and search for the title\n",
    "        fullsoup = BeautifulSoup(xml_data, \"xml\")\n",
    "        found = fullsoup.find(\"ArticleTitle\")\n",
    "        if found:\n",
    "            title = found.text\n",
    "\n",
    "    else:\n",
    "        logging.error(\n",
    "            f\"Encountered error in fetching from PubMed: {response.status_code}\"\n",
    "        )\n",
    "\n",
    "    return title\n"
   ],
   "id": "2d391e2d-b471-4d17-81dd-ea4c2c597de6"
  },
  {
   "cell_type": "markdown",
   "metadata": {},
   "source": [
    "Now we can get the PMID for the title:"
   ],
   "id": "0aad2952-2999-4ee8-a6e6-fb7db3ff82d6"
  },
  {
   "cell_type": "code",
   "execution_count": null,
   "metadata": {
    "results": "output",
    "session": "shared"
   },
   "outputs": [],
   "source": [
    "pmid = get_pmid_for_title(title)\n",
    "print(f\"PMID: {pmid} found for title: {title}\")\n"
   ],
   "id": "00c1e1c6-069b-46da-be7d-938256768cb9"
  },
  {
   "cell_type": "markdown",
   "metadata": {},
   "source": [
    "Next, in Chapter 03 we write a function to run NS-Forest on a dataset.\n",
    "\n",
    "See: [Chapter-03-NS-Forest.ipynb](Chapter-03-NS-Forest.ipynb)"
   ],
   "id": "2328c222-bc45-420a-8f6e-2574e0ce4580"
  }
 ],
 "nbformat": 4,
 "nbformat_minor": 5,
 "metadata": {}
}
